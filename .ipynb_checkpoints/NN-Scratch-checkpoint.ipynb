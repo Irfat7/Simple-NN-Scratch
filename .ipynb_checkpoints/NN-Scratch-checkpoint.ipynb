{
 "cells": [
  {
   "cell_type": "markdown",
   "id": "75e99bd9-1f55-423d-a52b-7c784727239c",
   "metadata": {},
   "source": [
    "## Neural Network That will be implemented\n",
    "![](images/Neural-Network.png)"
   ]
  },
  {
   "cell_type": "markdown",
   "id": "ba2d9ef0-f167-4822-995d-e2067811453f",
   "metadata": {},
   "source": [
    "## Forward Pass\n",
    "![](images/Forward-Pass.png)"
   ]
  },
  {
   "cell_type": "markdown",
   "id": "f51ae923-0d9c-41ab-97e9-fc135a30bf66",
   "metadata": {},
   "source": [
    "## Backpropagation\n",
    "![](images/Backpropagation.png)"
   ]
  },
  {
   "cell_type": "code",
   "execution_count": 340,
   "id": "352cdd94-6e39-4931-94e1-8c2fe25c65a9",
   "metadata": {},
   "outputs": [],
   "source": [
    "import numpy as np\n",
    "import matplotlib.pyplot as plt"
   ]
  },
  {
   "cell_type": "code",
   "execution_count": 341,
   "id": "4a0e260e-9604-4b6e-91d6-66dd40c54970",
   "metadata": {},
   "outputs": [],
   "source": [
    "learning_rate = 0.1\n",
    "epochs = 10000\n",
    "\n",
    "class Dense:\n",
    "    def __init__(self, prev_layer, current_layer):\n",
    "        self.weights = np.random.randn(prev_layer, current_layer)\n",
    "        self.biases = np.random.randn(current_layer)\n",
    "\n",
    "    def forward(self, x):\n",
    "        self.input = x\n",
    "        return x@self.weights + self.biases\n",
    "\n",
    "    def backward(self, gradient):\n",
    "        weights_error = np.outer(self.input, gradient)\n",
    "        biases_error = gradient\n",
    "\n",
    "        self.weights -= learning_rate*weights_error\n",
    "        self.biases -= learning_rate*biases_error\n",
    "\n",
    "        return gradient@self.weights.T"
   ]
  },
  {
   "cell_type": "code",
   "execution_count": 342,
   "id": "d8032356-ef9b-4489-9fd0-b740ba65e0c2",
   "metadata": {},
   "outputs": [],
   "source": [
    "class Sigmoid:\n",
    "    def activate(self, z):\n",
    "        self.a = 1/(1+np.exp(-z))\n",
    "        return self.a\n",
    "\n",
    "    def backward(self, gradient):\n",
    "        return gradient * self.a * (1 - self.a)"
   ]
  },
  {
   "cell_type": "code",
   "execution_count": 343,
   "id": "7c4bd041-0aa2-4e4f-bef3-a1e2ffeb42b3",
   "metadata": {},
   "outputs": [],
   "source": [
    "layer_1 = Dense(2, 2)  # Hidden layer with 2 neurons\n",
    "sigmoid_1 = Sigmoid()\n",
    "layer_2 = Dense(2, 1)  # Output layer with 1 neuron\n",
    "sigmoid_2 = Sigmoid()"
   ]
  },
  {
   "cell_type": "code",
   "execution_count": 344,
   "id": "db896f17-98e3-418c-93ab-1d7dadf44b6d",
   "metadata": {},
   "outputs": [
    {
     "name": "stdout",
     "output_type": "stream",
     "text": [
      "weights layer_1\n",
      "[[-2.38362304 -1.03080986]\n",
      " [-1.65032827 -0.87113165]]\n",
      "biases layer_1\n",
      "[-0.5172587  -2.41849651]\n",
      "weights layer_2\n",
      "[[-1.78548754]\n",
      " [-0.97884608]]\n",
      "biases layer_2\n",
      "[-0.45559687]\n"
     ]
    }
   ],
   "source": [
    "# Initial Weights and Biases\n",
    "print(f\"weights layer_1\\n{layer_1.weights}\\nbiases layer_1\\n{layer_1.biases}\")\n",
    "print(f\"weights layer_2\\n{layer_2.weights}\\nbiases layer_2\\n{layer_2.biases}\")"
   ]
  },
  {
   "cell_type": "code",
   "execution_count": 345,
   "id": "8b73d1ae-a21a-4efe-aa24-2eb7e10e876e",
   "metadata": {},
   "outputs": [],
   "source": [
    "# X-OR Truth Table\n",
    "x = np.array([[0,0],[0,1],[1,0],[1,1]])\n",
    "y = np.array([0,1,1,0])"
   ]
  },
  {
   "cell_type": "code",
   "execution_count": 346,
   "id": "76ce3db1-76fe-4dde-8b9f-770d2c777eb1",
   "metadata": {},
   "outputs": [],
   "source": [
    "epochs = 0 # To track the number of epochs\n",
    "max_epochs = 50000  # To terminate trainning so that no infinite loop\n",
    "total_losses = [] # Average loss of each epoch will be stored here\n",
    "while True:\n",
    "    epochs += 1\n",
    "    error_sum = 0\n",
    "    all_correct = True  # Flag to track if all predictions are correct\n",
    "\n",
    "    for obj, label in zip(x, y):\n",
    "        # Forward pass\n",
    "        z = layer_1.forward(obj)\n",
    "        z = sigmoid_1.activate(z)\n",
    "        z = layer_2.forward(z)\n",
    "        z = sigmoid_2.activate(z)\n",
    "\n",
    "        # Compute Binary Cross-Entropy Loss\n",
    "        loss = -(label * np.log(z) + (1 - label) * np.log(1 - z))\n",
    "        error_sum += loss\n",
    "\n",
    "        # Check prediction\n",
    "        prediction = 1 if z >= 0.5 else 0\n",
    "        if prediction != label:\n",
    "            all_correct = False  # If any prediction is incorrect, keep training\n",
    "\n",
    "        # Backward pass\n",
    "        error = z - label  # Derivative of BCE with respect to z\n",
    "        gradient = sigmoid_2.backward(error)\n",
    "        gradient = layer_2.backward(gradient)\n",
    "        gradient = sigmoid_1.backward(gradient)\n",
    "        gradient = layer_1.backward(gradient)\n",
    "\n",
    "    # Record average loss for the epoch\n",
    "    total_losses.append(error_sum / len(x))\n",
    "\n",
    "    # Stop if all predictions are correct\n",
    "    if all_correct or epochs >= max_epochs:\n",
    "        break"
   ]
  },
  {
   "cell_type": "code",
   "execution_count": 347,
   "id": "f1a43e2c-cfb3-4bca-97e8-40cb9c3a175b",
   "metadata": {},
   "outputs": [
    {
     "data": {
      "image/png": "[encoded data removed]",
      "text/plain": [
       "<Figure size 640x480 with 1 Axes>"
      ]
     },
     "metadata": {},
     "output_type": "display_data"
    }
   ],
   "source": [
    "plt.plot(range(epochs), total_losses, label='Training Loss')\n",
    "plt.xlabel('Epoch')\n",
    "plt.ylabel('Loss')\n",
    "plt.title('Loss Over Epochs')\n",
    "plt.legend()\n",
    "plt.show()"
   ]
  },
  {
   "cell_type": "code",
   "execution_count": 348,
   "id": "a588af00-0e6c-4a07-8974-8140adfcee78",
   "metadata": {},
   "outputs": [
    {
     "name": "stdout",
     "output_type": "stream",
     "text": [
      "Final Predictions:\n",
      "Input: [0 0], Label: 0, Prediction: 0\n",
      "Input: [0 1], Label: 1, Prediction: 1\n",
      "Input: [1 0], Label: 1, Prediction: 1\n",
      "Input: [1 1], Label: 0, Prediction: 0\n"
     ]
    }
   ],
   "source": [
    "# Evaluate The Model\n",
    "print(\"Final Predictions:\")\n",
    "for obj, label in zip(x, y):\n",
    "    z = layer_1.forward(obj)\n",
    "    z = sigmoid_1.activate(z)\n",
    "    z = layer_2.forward(z)\n",
    "    z = sigmoid_2.activate(z)\n",
    "    prediction = 1 if z >= 0.5 else 0\n",
    "    print(f\"Input: {obj}, Label: {label}, Prediction: {prediction}\")"
   ]
  }
 ],
 "metadata": {
  "kernelspec": {
   "display_name": "ml_env",
   "language": "python",
   "name": "ml_env"
  },
  "language_info": {
   "codemirror_mode": {
    "name": "ipython",
    "version": 3
   },
   "file_extension": ".py",
   "mimetype": "text/x-python",
   "name": "python",
   "nbconvert_exporter": "python",
   "pygments_lexer": "ipython3",
   "version": "3.8.18"
  }
 },
 "nbformat": 4,
 "nbformat_minor": 5
}
